{
 "cells": [
  {
   "cell_type": "code",
   "execution_count": 0,
   "metadata": {
    "application/vnd.databricks.v1+cell": {
     "cellMetadata": {
      "byteLimit": 2048000,
      "rowLimit": 10000
     },
     "inputWidgets": {},
     "nuid": "92d9c07a-6be0-4dab-adaa-9cc1c5eb0e59",
     "showTitle": false,
     "title": ""
    }
   },
   "outputs": [
    {
     "output_type": "display_data",
     "data": {
      "text/plain": [
       "\u001B[0;31m---------------------------------------------------------------------------\u001B[0m\n",
       "\u001B[0;31mAccessDeniedException\u001B[0m                     Traceback (most recent call last)\n",
       "File \u001B[0;32m<command-921856242841070>, line 4\u001B[0m\n",
       "\u001B[1;32m      1\u001B[0m \u001B[38;5;28;01mimport\u001B[39;00m \u001B[38;5;21;01mboto3\u001B[39;00m\n",
       "\u001B[1;32m      3\u001B[0m client \u001B[38;5;241m=\u001B[39m boto3\u001B[38;5;241m.\u001B[39mclient(\u001B[38;5;124m'\u001B[39m\u001B[38;5;124mlakeformation\u001B[39m\u001B[38;5;124m'\u001B[39m,region_name\u001B[38;5;241m=\u001B[39m\u001B[38;5;124m\"\u001B[39m\u001B[38;5;124mus-east-1\u001B[39m\u001B[38;5;124m\"\u001B[39m)\n",
       "\u001B[0;32m----> 4\u001B[0m response \u001B[38;5;241m=\u001B[39m client\u001B[38;5;241m.\u001B[39mget_temporary_glue_table_credentials(\n",
       "\u001B[1;32m      5\u001B[0m     TableArn\u001B[38;5;241m=\u001B[39m\u001B[38;5;124m'\u001B[39m\u001B[38;5;124marn:aws:glue:us-east-1:332745928618:table/wenxintest/lfmanagedtable\u001B[39m\u001B[38;5;124m'\u001B[39m,\n",
       "\u001B[1;32m      6\u001B[0m     Permissions\u001B[38;5;241m=\u001B[39m[ \u001B[38;5;124m\"\u001B[39m\u001B[38;5;124mDESCRIBE\u001B[39m\u001B[38;5;124m\"\u001B[39m],\n",
       "\u001B[1;32m      7\u001B[0m     DurationSeconds\u001B[38;5;241m=\u001B[39m\u001B[38;5;241m999\u001B[39m,\n",
       "\u001B[1;32m      8\u001B[0m     SupportedPermissionTypes\u001B[38;5;241m=\u001B[39m[\n",
       "\u001B[1;32m      9\u001B[0m         \u001B[38;5;124m'\u001B[39m\u001B[38;5;124mCOLUMN_PERMISSION\u001B[39m\u001B[38;5;124m'\u001B[39m\n",
       "\u001B[1;32m     10\u001B[0m     ]\n",
       "\u001B[1;32m     11\u001B[0m )\n",
       "\u001B[1;32m     12\u001B[0m \u001B[38;5;28mprint\u001B[39m(response)\n",
       "\n",
       "File \u001B[0;32m/databricks/python/lib/python3.10/site-packages/botocore/client.py:514\u001B[0m, in \u001B[0;36mClientCreator._create_api_method.<locals>._api_call\u001B[0;34m(self, *args, **kwargs)\u001B[0m\n",
       "\u001B[1;32m    510\u001B[0m     \u001B[38;5;28;01mraise\u001B[39;00m \u001B[38;5;167;01mTypeError\u001B[39;00m(\n",
       "\u001B[1;32m    511\u001B[0m         \u001B[38;5;124mf\u001B[39m\u001B[38;5;124m\"\u001B[39m\u001B[38;5;132;01m{\u001B[39;00mpy_operation_name\u001B[38;5;132;01m}\u001B[39;00m\u001B[38;5;124m() only accepts keyword arguments.\u001B[39m\u001B[38;5;124m\"\u001B[39m\n",
       "\u001B[1;32m    512\u001B[0m     )\n",
       "\u001B[1;32m    513\u001B[0m \u001B[38;5;66;03m# The \"self\" in this scope is referring to the BaseClient.\u001B[39;00m\n",
       "\u001B[0;32m--> 514\u001B[0m \u001B[38;5;28;01mreturn\u001B[39;00m \u001B[38;5;28;43mself\u001B[39;49m\u001B[38;5;241;43m.\u001B[39;49m\u001B[43m_make_api_call\u001B[49m\u001B[43m(\u001B[49m\u001B[43moperation_name\u001B[49m\u001B[43m,\u001B[49m\u001B[43m \u001B[49m\u001B[43mkwargs\u001B[49m\u001B[43m)\u001B[49m\n",
       "\n",
       "File \u001B[0;32m/databricks/python/lib/python3.10/site-packages/botocore/client.py:938\u001B[0m, in \u001B[0;36mBaseClient._make_api_call\u001B[0;34m(self, operation_name, api_params)\u001B[0m\n",
       "\u001B[1;32m    936\u001B[0m     error_code \u001B[38;5;241m=\u001B[39m parsed_response\u001B[38;5;241m.\u001B[39mget(\u001B[38;5;124m\"\u001B[39m\u001B[38;5;124mError\u001B[39m\u001B[38;5;124m\"\u001B[39m, {})\u001B[38;5;241m.\u001B[39mget(\u001B[38;5;124m\"\u001B[39m\u001B[38;5;124mCode\u001B[39m\u001B[38;5;124m\"\u001B[39m)\n",
       "\u001B[1;32m    937\u001B[0m     error_class \u001B[38;5;241m=\u001B[39m \u001B[38;5;28mself\u001B[39m\u001B[38;5;241m.\u001B[39mexceptions\u001B[38;5;241m.\u001B[39mfrom_code(error_code)\n",
       "\u001B[0;32m--> 938\u001B[0m     \u001B[38;5;28;01mraise\u001B[39;00m error_class(parsed_response, operation_name)\n",
       "\u001B[1;32m    939\u001B[0m \u001B[38;5;28;01melse\u001B[39;00m:\n",
       "\u001B[1;32m    940\u001B[0m     \u001B[38;5;28;01mreturn\u001B[39;00m parsed_response\n",
       "\n",
       "\u001B[0;31mAccessDeniedException\u001B[0m: An error occurred (AccessDeniedException) when calling the GetTemporaryGlueTableCredentials operation: Not authorized to call this API."
      ]
     },
     "metadata": {
      "application/vnd.databricks.v1+output": {
       "addedWidgets": {},
       "arguments": {},
       "datasetInfos": [],
       "jupyterProps": {
        "ename": "AccessDeniedException",
        "evalue": "An error occurred (AccessDeniedException) when calling the GetTemporaryGlueTableCredentials operation: Not authorized to call this API."
       },
       "metadata": {
        "errorSummary": "<span class='ansi-red-fg'>AccessDeniedException</span>: An error occurred (AccessDeniedException) when calling the GetTemporaryGlueTableCredentials operation: Not authorized to call this API."
       },
       "removedWidgets": [],
       "sqlProps": null,
       "stackFrames": [
        "\u001B[0;31m---------------------------------------------------------------------------\u001B[0m",
        "\u001B[0;31mAccessDeniedException\u001B[0m                     Traceback (most recent call last)",
        "File \u001B[0;32m<command-921856242841070>, line 4\u001B[0m\n\u001B[1;32m      1\u001B[0m \u001B[38;5;28;01mimport\u001B[39;00m \u001B[38;5;21;01mboto3\u001B[39;00m\n\u001B[1;32m      3\u001B[0m client \u001B[38;5;241m=\u001B[39m boto3\u001B[38;5;241m.\u001B[39mclient(\u001B[38;5;124m'\u001B[39m\u001B[38;5;124mlakeformation\u001B[39m\u001B[38;5;124m'\u001B[39m,region_name\u001B[38;5;241m=\u001B[39m\u001B[38;5;124m\"\u001B[39m\u001B[38;5;124mus-east-1\u001B[39m\u001B[38;5;124m\"\u001B[39m)\n\u001B[0;32m----> 4\u001B[0m response \u001B[38;5;241m=\u001B[39m client\u001B[38;5;241m.\u001B[39mget_temporary_glue_table_credentials(\n\u001B[1;32m      5\u001B[0m     TableArn\u001B[38;5;241m=\u001B[39m\u001B[38;5;124m'\u001B[39m\u001B[38;5;124marn:aws:glue:us-east-1:332745928618:table/wenxintest/lfmanagedtable\u001B[39m\u001B[38;5;124m'\u001B[39m,\n\u001B[1;32m      6\u001B[0m     Permissions\u001B[38;5;241m=\u001B[39m[ \u001B[38;5;124m\"\u001B[39m\u001B[38;5;124mDESCRIBE\u001B[39m\u001B[38;5;124m\"\u001B[39m],\n\u001B[1;32m      7\u001B[0m     DurationSeconds\u001B[38;5;241m=\u001B[39m\u001B[38;5;241m999\u001B[39m,\n\u001B[1;32m      8\u001B[0m     SupportedPermissionTypes\u001B[38;5;241m=\u001B[39m[\n\u001B[1;32m      9\u001B[0m         \u001B[38;5;124m'\u001B[39m\u001B[38;5;124mCOLUMN_PERMISSION\u001B[39m\u001B[38;5;124m'\u001B[39m\n\u001B[1;32m     10\u001B[0m     ]\n\u001B[1;32m     11\u001B[0m )\n\u001B[1;32m     12\u001B[0m \u001B[38;5;28mprint\u001B[39m(response)\n",
        "File \u001B[0;32m/databricks/python/lib/python3.10/site-packages/botocore/client.py:514\u001B[0m, in \u001B[0;36mClientCreator._create_api_method.<locals>._api_call\u001B[0;34m(self, *args, **kwargs)\u001B[0m\n\u001B[1;32m    510\u001B[0m     \u001B[38;5;28;01mraise\u001B[39;00m \u001B[38;5;167;01mTypeError\u001B[39;00m(\n\u001B[1;32m    511\u001B[0m         \u001B[38;5;124mf\u001B[39m\u001B[38;5;124m\"\u001B[39m\u001B[38;5;132;01m{\u001B[39;00mpy_operation_name\u001B[38;5;132;01m}\u001B[39;00m\u001B[38;5;124m() only accepts keyword arguments.\u001B[39m\u001B[38;5;124m\"\u001B[39m\n\u001B[1;32m    512\u001B[0m     )\n\u001B[1;32m    513\u001B[0m \u001B[38;5;66;03m# The \"self\" in this scope is referring to the BaseClient.\u001B[39;00m\n\u001B[0;32m--> 514\u001B[0m \u001B[38;5;28;01mreturn\u001B[39;00m \u001B[38;5;28;43mself\u001B[39;49m\u001B[38;5;241;43m.\u001B[39;49m\u001B[43m_make_api_call\u001B[49m\u001B[43m(\u001B[49m\u001B[43moperation_name\u001B[49m\u001B[43m,\u001B[49m\u001B[43m \u001B[49m\u001B[43mkwargs\u001B[49m\u001B[43m)\u001B[49m\n",
        "File \u001B[0;32m/databricks/python/lib/python3.10/site-packages/botocore/client.py:938\u001B[0m, in \u001B[0;36mBaseClient._make_api_call\u001B[0;34m(self, operation_name, api_params)\u001B[0m\n\u001B[1;32m    936\u001B[0m     error_code \u001B[38;5;241m=\u001B[39m parsed_response\u001B[38;5;241m.\u001B[39mget(\u001B[38;5;124m\"\u001B[39m\u001B[38;5;124mError\u001B[39m\u001B[38;5;124m\"\u001B[39m, {})\u001B[38;5;241m.\u001B[39mget(\u001B[38;5;124m\"\u001B[39m\u001B[38;5;124mCode\u001B[39m\u001B[38;5;124m\"\u001B[39m)\n\u001B[1;32m    937\u001B[0m     error_class \u001B[38;5;241m=\u001B[39m \u001B[38;5;28mself\u001B[39m\u001B[38;5;241m.\u001B[39mexceptions\u001B[38;5;241m.\u001B[39mfrom_code(error_code)\n\u001B[0;32m--> 938\u001B[0m     \u001B[38;5;28;01mraise\u001B[39;00m error_class(parsed_response, operation_name)\n\u001B[1;32m    939\u001B[0m \u001B[38;5;28;01melse\u001B[39;00m:\n\u001B[1;32m    940\u001B[0m     \u001B[38;5;28;01mreturn\u001B[39;00m parsed_response\n",
        "\u001B[0;31mAccessDeniedException\u001B[0m: An error occurred (AccessDeniedException) when calling the GetTemporaryGlueTableCredentials operation: Not authorized to call this API."
       ],
       "type": "baseError"
      }
     },
     "output_type": "display_data"
    }
   ],
   "source": [
    "import boto3\n",
    "\n",
    "client = boto3.client('lakeformation',region_name=\"us-east-1\")\n",
    "response = client.get_temporary_glue_table_credentials(\n",
    "    TableArn='arn:aws:glue:us-east-1:332745928618:table/wenxintest/lfmanagedtable',\n",
    "    Permissions=[ \"DESCRIBE\"],\n",
    "    DurationSeconds=999,\n",
    "    SupportedPermissionTypes=[\n",
    "        'COLUMN_PERMISSION'\n",
    "    ]\n",
    ")\n",
    "print(response)"
   ]
  },
  {
   "cell_type": "code",
   "execution_count": 0,
   "metadata": {
    "application/vnd.databricks.v1+cell": {
     "cellMetadata": {},
     "inputWidgets": {},
     "nuid": "044aa2e8-e589-4708-ba0f-7d9a1c7f41c6",
     "showTitle": false,
     "title": ""
    }
   },
   "outputs": [],
   "source": []
  }
 ],
 "metadata": {
  "application/vnd.databricks.v1+notebook": {
   "dashboards": [],
   "language": "python",
   "notebookMetadata": {
    "pythonIndentUnit": 4
   },
   "notebookName": "SameAccount332745928618LFtest",
   "widgets": {}
  }
 },
 "nbformat": 4,
 "nbformat_minor": 0
}
