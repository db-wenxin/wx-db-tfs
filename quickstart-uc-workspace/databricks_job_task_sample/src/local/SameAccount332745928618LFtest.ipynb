{
 "cells": [
  {
   "cell_type": "code",
   "execution_count": null,
   "metadata": {
    "application/vnd.databricks.v1+cell": {
     "cellMetadata": {
      "byteLimit": 2048000,
      "rowLimit": 10000
     },
     "inputWidgets": {},
     "nuid": "92d9c07a-6be0-4dab-adaa-9cc1c5eb0e59",
     "showTitle": false,
     "title": ""
    }
   },
   "outputs": [],
   "source": [
    "import boto3\n",
    "\n",
    "client = boto3.client('lakeformation',region_name=\"us-east-1\")\n",
    "response = client.get_temporary_glue_table_credentials(\n",
    "    TableArn='arn:aws:glue:us-east-1:332745928618:table/wenxintest/lfmanagedtable',\n",
    "    Permissions=[ \"DESCRIBE\"],\n",
    "    DurationSeconds=999,\n",
    "    SupportedPermissionTypes=[\n",
    "        'COLUMN_PERMISSION'\n",
    "    ]\n",
    ")\n",
    "print(response)"
   ]
  },
  {
   "cell_type": "code",
   "execution_count": null,
   "metadata": {
    "application/vnd.databricks.v1+cell": {
     "cellMetadata": {},
     "inputWidgets": {},
     "nuid": "044aa2e8-e589-4708-ba0f-7d9a1c7f41c6",
     "showTitle": false,
     "title": ""
    }
   },
   "outputs": [],
   "source": []
  }
 ],
 "metadata": {
  "application/vnd.databricks.v1+notebook": {
   "dashboards": [],
   "language": "python",
   "notebookMetadata": {
    "pythonIndentUnit": 4
   },
   "notebookName": "SameAccount332745928618LFtest",
   "widgets": {}
  },
  "language_info": {
   "name": "python"
  }
 },
 "nbformat": 4,
 "nbformat_minor": 0
}
